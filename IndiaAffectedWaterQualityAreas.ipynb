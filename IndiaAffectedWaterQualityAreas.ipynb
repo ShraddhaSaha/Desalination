{
 "cells": [
  {
   "cell_type": "code",
   "execution_count": 1,
   "id": "f08ebe2d",
   "metadata": {},
   "outputs": [],
   "source": [
    "import numpy as np\n",
    "import pandas as pd\n",
    "import matplotlib as plt\n",
    "%matplotlib inline\n",
    "import matplotlib.pyplot as plt\n",
    "import seaborn as sns"
   ]
  },
  {
   "cell_type": "code",
   "execution_count": 5,
   "id": "44da75da",
   "metadata": {},
   "outputs": [],
   "source": [
    "quality = pd.read_csv(\"IndiaAffectedWaterQualityAreas.csv\",encoding='latin1')"
   ]
  },
  {
   "cell_type": "code",
   "execution_count": 6,
   "id": "a1ca9814",
   "metadata": {},
   "outputs": [
    {
     "data": {
      "text/html": [
       "<div>\n",
       "<style scoped>\n",
       "    .dataframe tbody tr th:only-of-type {\n",
       "        vertical-align: middle;\n",
       "    }\n",
       "\n",
       "    .dataframe tbody tr th {\n",
       "        vertical-align: top;\n",
       "    }\n",
       "\n",
       "    .dataframe thead th {\n",
       "        text-align: right;\n",
       "    }\n",
       "</style>\n",
       "<table border=\"1\" class=\"dataframe\">\n",
       "  <thead>\n",
       "    <tr style=\"text-align: right;\">\n",
       "      <th></th>\n",
       "      <th>State Name</th>\n",
       "      <th>District Name</th>\n",
       "      <th>Block Name</th>\n",
       "      <th>Panchayat Name</th>\n",
       "      <th>Village Name</th>\n",
       "      <th>Habitation Name</th>\n",
       "      <th>Quality Parameter</th>\n",
       "      <th>Year</th>\n",
       "    </tr>\n",
       "  </thead>\n",
       "  <tbody>\n",
       "    <tr>\n",
       "      <th>0</th>\n",
       "      <td>ANDHRA PRADESH</td>\n",
       "      <td>EAST GODAVARI(04)</td>\n",
       "      <td>PRATHIPADU(10)</td>\n",
       "      <td>GOKAVARAM(04)</td>\n",
       "      <td>VANTHADA(014 )</td>\n",
       "      <td>VANTHADA(0404410014010400)</td>\n",
       "      <td>Salinity</td>\n",
       "      <td>1/4/2009</td>\n",
       "    </tr>\n",
       "    <tr>\n",
       "      <th>1</th>\n",
       "      <td>ANDHRA PRADESH</td>\n",
       "      <td>EAST GODAVARI(04)</td>\n",
       "      <td>PRATHIPADU(10)</td>\n",
       "      <td>GOKAVARAM(04)</td>\n",
       "      <td>PANDAVULAPALEM(022 )</td>\n",
       "      <td>PANDAVULAPALEM(0404410022010400)</td>\n",
       "      <td>Fluoride</td>\n",
       "      <td>1/4/2009</td>\n",
       "    </tr>\n",
       "    <tr>\n",
       "      <th>2</th>\n",
       "      <td>ANDHRA PRADESH</td>\n",
       "      <td>EAST GODAVARI(04)</td>\n",
       "      <td>PRATHIPADU(10)</td>\n",
       "      <td>GAJJANAPUDI(06)</td>\n",
       "      <td>G. KOTHURU(023 )</td>\n",
       "      <td>G. KOTHURU(0404410023010600)</td>\n",
       "      <td>Salinity</td>\n",
       "      <td>1/4/2009</td>\n",
       "    </tr>\n",
       "    <tr>\n",
       "      <th>3</th>\n",
       "      <td>ANDHRA PRADESH</td>\n",
       "      <td>EAST GODAVARI(04)</td>\n",
       "      <td>PRATHIPADU(10)</td>\n",
       "      <td>GAJJANAPUDI(06)</td>\n",
       "      <td>GAJJANAPUDI(029 )</td>\n",
       "      <td>GAJJANAPUDI(0404410029010600)</td>\n",
       "      <td>Salinity</td>\n",
       "      <td>1/4/2009</td>\n",
       "    </tr>\n",
       "    <tr>\n",
       "      <th>4</th>\n",
       "      <td>ANDHRA PRADESH</td>\n",
       "      <td>EAST GODAVARI(04)</td>\n",
       "      <td>PRATHIPADU(10)</td>\n",
       "      <td>CHINTALURU(10)</td>\n",
       "      <td>CHINTALURU(028 )</td>\n",
       "      <td>CHINTALURU(0404410028011000)</td>\n",
       "      <td>Salinity</td>\n",
       "      <td>1/4/2009</td>\n",
       "    </tr>\n",
       "    <tr>\n",
       "      <th>...</th>\n",
       "      <td>...</td>\n",
       "      <td>...</td>\n",
       "      <td>...</td>\n",
       "      <td>...</td>\n",
       "      <td>...</td>\n",
       "      <td>...</td>\n",
       "      <td>...</td>\n",
       "      <td>...</td>\n",
       "    </tr>\n",
       "    <tr>\n",
       "      <th>550237</th>\n",
       "      <td>ASSAM</td>\n",
       "      <td>JORHAT</td>\n",
       "      <td>KALIAPANI</td>\n",
       "      <td>CHINTAMONIGARH</td>\n",
       "      <td>GHARACHOWA  HABI  GAON</td>\n",
       "      <td>2 NO. BORA - SAIKIA  CHUCK</td>\n",
       "      <td>Iron</td>\n",
       "      <td>1/4/2012</td>\n",
       "    </tr>\n",
       "    <tr>\n",
       "      <th>550238</th>\n",
       "      <td>ASSAM</td>\n",
       "      <td>JORHAT</td>\n",
       "      <td>KALIAPANI</td>\n",
       "      <td>CHINTAMONIGARH</td>\n",
       "      <td>GHARPHALIA GAON</td>\n",
       "      <td>GHARPHOLIA CHUCK</td>\n",
       "      <td>Iron</td>\n",
       "      <td>1/4/2012</td>\n",
       "    </tr>\n",
       "    <tr>\n",
       "      <th>550239</th>\n",
       "      <td>ASSAM</td>\n",
       "      <td>JORHAT</td>\n",
       "      <td>KALIAPANI</td>\n",
       "      <td>TAMULICHIGA  GAON</td>\n",
       "      <td>SIMALUGURI GAON</td>\n",
       "      <td>SIMALUGURI  BAMUN   CHUCK</td>\n",
       "      <td>Iron</td>\n",
       "      <td>1/4/2012</td>\n",
       "    </tr>\n",
       "    <tr>\n",
       "      <th>550240</th>\n",
       "      <td>ASSAM</td>\n",
       "      <td>JORHAT</td>\n",
       "      <td>KALIAPANI</td>\n",
       "      <td>TAMULICHIGA  GAON</td>\n",
       "      <td>SIMALUGURI GAON</td>\n",
       "      <td>POURUA  CHANGMI   CHUCK</td>\n",
       "      <td>Iron</td>\n",
       "      <td>1/4/2012</td>\n",
       "    </tr>\n",
       "    <tr>\n",
       "      <th>550241</th>\n",
       "      <td>ASSAM</td>\n",
       "      <td>JORHAT</td>\n",
       "      <td>KALIAPANI</td>\n",
       "      <td>TAMULICHIGA  GAON</td>\n",
       "      <td>SIMALUGURI GAON</td>\n",
       "      <td>TATALIGURI    KOIBORTA  CHUCK</td>\n",
       "      <td>Iron</td>\n",
       "      <td>1/4/2012</td>\n",
       "    </tr>\n",
       "  </tbody>\n",
       "</table>\n",
       "<p>550242 rows × 8 columns</p>\n",
       "</div>"
      ],
      "text/plain": [
       "            State Name      District Name      Block Name     Panchayat Name  \\\n",
       "0       ANDHRA PRADESH  EAST GODAVARI(04)  PRATHIPADU(10)      GOKAVARAM(04)   \n",
       "1       ANDHRA PRADESH  EAST GODAVARI(04)  PRATHIPADU(10)      GOKAVARAM(04)   \n",
       "2       ANDHRA PRADESH  EAST GODAVARI(04)  PRATHIPADU(10)    GAJJANAPUDI(06)   \n",
       "3       ANDHRA PRADESH  EAST GODAVARI(04)  PRATHIPADU(10)    GAJJANAPUDI(06)   \n",
       "4       ANDHRA PRADESH  EAST GODAVARI(04)  PRATHIPADU(10)     CHINTALURU(10)   \n",
       "...                ...                ...             ...                ...   \n",
       "550237           ASSAM             JORHAT       KALIAPANI     CHINTAMONIGARH   \n",
       "550238           ASSAM             JORHAT       KALIAPANI     CHINTAMONIGARH   \n",
       "550239           ASSAM             JORHAT       KALIAPANI  TAMULICHIGA  GAON   \n",
       "550240           ASSAM             JORHAT       KALIAPANI  TAMULICHIGA  GAON   \n",
       "550241           ASSAM             JORHAT       KALIAPANI  TAMULICHIGA  GAON   \n",
       "\n",
       "                  Village Name                   Habitation Name  \\\n",
       "0               VANTHADA(014 )        VANTHADA(0404410014010400)   \n",
       "1         PANDAVULAPALEM(022 )  PANDAVULAPALEM(0404410022010400)   \n",
       "2             G. KOTHURU(023 )      G. KOTHURU(0404410023010600)   \n",
       "3            GAJJANAPUDI(029 )     GAJJANAPUDI(0404410029010600)   \n",
       "4             CHINTALURU(028 )      CHINTALURU(0404410028011000)   \n",
       "...                        ...                               ...   \n",
       "550237  GHARACHOWA  HABI  GAON        2 NO. BORA - SAIKIA  CHUCK   \n",
       "550238         GHARPHALIA GAON                  GHARPHOLIA CHUCK   \n",
       "550239         SIMALUGURI GAON         SIMALUGURI  BAMUN   CHUCK   \n",
       "550240         SIMALUGURI GAON           POURUA  CHANGMI   CHUCK   \n",
       "550241         SIMALUGURI GAON     TATALIGURI    KOIBORTA  CHUCK   \n",
       "\n",
       "       Quality Parameter      Year  \n",
       "0               Salinity  1/4/2009  \n",
       "1               Fluoride  1/4/2009  \n",
       "2               Salinity  1/4/2009  \n",
       "3               Salinity  1/4/2009  \n",
       "4               Salinity  1/4/2009  \n",
       "...                  ...       ...  \n",
       "550237              Iron  1/4/2012  \n",
       "550238              Iron  1/4/2012  \n",
       "550239              Iron  1/4/2012  \n",
       "550240              Iron  1/4/2012  \n",
       "550241              Iron  1/4/2012  \n",
       "\n",
       "[550242 rows x 8 columns]"
      ]
     },
     "execution_count": 6,
     "metadata": {},
     "output_type": "execute_result"
    }
   ],
   "source": [
    "quality"
   ]
  },
  {
   "cell_type": "code",
   "execution_count": 7,
   "id": "d759e193",
   "metadata": {},
   "outputs": [
    {
     "data": {
      "text/plain": [
       "(550242, 8)"
      ]
     },
     "execution_count": 7,
     "metadata": {},
     "output_type": "execute_result"
    }
   ],
   "source": [
    "quality.shape"
   ]
  },
  {
   "cell_type": "code",
   "execution_count": 8,
   "id": "2eb41926",
   "metadata": {},
   "outputs": [
    {
     "name": "stdout",
     "output_type": "stream",
     "text": [
      "<class 'pandas.core.frame.DataFrame'>\n",
      "RangeIndex: 550242 entries, 0 to 550241\n",
      "Data columns (total 8 columns):\n",
      " #   Column             Non-Null Count   Dtype \n",
      "---  ------             --------------   ----- \n",
      " 0   State Name         550242 non-null  object\n",
      " 1   District Name      550242 non-null  object\n",
      " 2   Block Name         550242 non-null  object\n",
      " 3   Panchayat Name     550242 non-null  object\n",
      " 4   Village Name       550242 non-null  object\n",
      " 5   Habitation Name    550242 non-null  object\n",
      " 6   Quality Parameter  550242 non-null  object\n",
      " 7   Year               550242 non-null  object\n",
      "dtypes: object(8)\n",
      "memory usage: 33.6+ MB\n"
     ]
    }
   ],
   "source": [
    "quality.info()"
   ]
  },
  {
   "cell_type": "code",
   "execution_count": 9,
   "id": "46da9e55",
   "metadata": {},
   "outputs": [
    {
     "data": {
      "text/html": [
       "<div>\n",
       "<style scoped>\n",
       "    .dataframe tbody tr th:only-of-type {\n",
       "        vertical-align: middle;\n",
       "    }\n",
       "\n",
       "    .dataframe tbody tr th {\n",
       "        vertical-align: top;\n",
       "    }\n",
       "\n",
       "    .dataframe thead th {\n",
       "        text-align: right;\n",
       "    }\n",
       "</style>\n",
       "<table border=\"1\" class=\"dataframe\">\n",
       "  <thead>\n",
       "    <tr style=\"text-align: right;\">\n",
       "      <th></th>\n",
       "      <th>State Name</th>\n",
       "      <th>District Name</th>\n",
       "      <th>Block Name</th>\n",
       "      <th>Panchayat Name</th>\n",
       "      <th>Village Name</th>\n",
       "      <th>Habitation Name</th>\n",
       "      <th>Quality Parameter</th>\n",
       "      <th>Year</th>\n",
       "    </tr>\n",
       "  </thead>\n",
       "  <tbody>\n",
       "    <tr>\n",
       "      <th>count</th>\n",
       "      <td>550242</td>\n",
       "      <td>550242</td>\n",
       "      <td>550242</td>\n",
       "      <td>550242</td>\n",
       "      <td>550242</td>\n",
       "      <td>550242</td>\n",
       "      <td>550242</td>\n",
       "      <td>550242</td>\n",
       "    </tr>\n",
       "    <tr>\n",
       "      <th>unique</th>\n",
       "      <td>27</td>\n",
       "      <td>493</td>\n",
       "      <td>3577</td>\n",
       "      <td>37471</td>\n",
       "      <td>81703</td>\n",
       "      <td>147566</td>\n",
       "      <td>5</td>\n",
       "      <td>4</td>\n",
       "    </tr>\n",
       "    <tr>\n",
       "      <th>top</th>\n",
       "      <td>RAJASTHAN</td>\n",
       "      <td>BARMER</td>\n",
       "      <td>BALESAR</td>\n",
       "      <td>RATANPUR</td>\n",
       "      <td>RAMPUR</td>\n",
       "      <td>HARIJAN TOLA</td>\n",
       "      <td>Iron</td>\n",
       "      <td>1/4/2009</td>\n",
       "    </tr>\n",
       "    <tr>\n",
       "      <th>freq</th>\n",
       "      <td>131417</td>\n",
       "      <td>43752</td>\n",
       "      <td>8358</td>\n",
       "      <td>797</td>\n",
       "      <td>691</td>\n",
       "      <td>3072</td>\n",
       "      <td>302244</td>\n",
       "      <td>179999</td>\n",
       "    </tr>\n",
       "  </tbody>\n",
       "</table>\n",
       "</div>"
      ],
      "text/plain": [
       "       State Name District Name Block Name Panchayat Name Village Name  \\\n",
       "count      550242        550242     550242         550242       550242   \n",
       "unique         27           493       3577          37471        81703   \n",
       "top     RAJASTHAN        BARMER    BALESAR       RATANPUR       RAMPUR   \n",
       "freq       131417         43752       8358            797          691   \n",
       "\n",
       "       Habitation Name Quality Parameter      Year  \n",
       "count           550242            550242    550242  \n",
       "unique          147566                 5         4  \n",
       "top       HARIJAN TOLA              Iron  1/4/2009  \n",
       "freq              3072            302244    179999  "
      ]
     },
     "execution_count": 9,
     "metadata": {},
     "output_type": "execute_result"
    }
   ],
   "source": [
    "quality.describe()"
   ]
  },
  {
   "cell_type": "code",
   "execution_count": null,
   "id": "2f2a62e6",
   "metadata": {},
   "outputs": [],
   "source": []
  },
  {
   "cell_type": "code",
   "execution_count": 10,
   "id": "40f27802",
   "metadata": {},
   "outputs": [
    {
     "data": {
      "text/plain": [
       "State Name           0\n",
       "District Name        0\n",
       "Block Name           0\n",
       "Panchayat Name       0\n",
       "Village Name         0\n",
       "Habitation Name      0\n",
       "Quality Parameter    0\n",
       "Year                 0\n",
       "dtype: int64"
      ]
     },
     "execution_count": 10,
     "metadata": {},
     "output_type": "execute_result"
    }
   ],
   "source": [
    "quality.isnull().sum()"
   ]
  },
  {
   "cell_type": "code",
   "execution_count": null,
   "id": "2e06b932",
   "metadata": {},
   "outputs": [],
   "source": []
  },
  {
   "cell_type": "code",
   "execution_count": 11,
   "id": "b1caa5e0",
   "metadata": {},
   "outputs": [
    {
     "data": {
      "text/plain": [
       "(169, 8)"
      ]
     },
     "execution_count": 11,
     "metadata": {},
     "output_type": "execute_result"
    }
   ],
   "source": [
    "#Checking for Duplicates\n",
    "Duplicates=quality[quality.duplicated(keep=False)]\n",
    "Duplicates.shape"
   ]
  },
  {
   "cell_type": "code",
   "execution_count": 12,
   "id": "dfa4d734",
   "metadata": {},
   "outputs": [
    {
     "data": {
      "text/plain": [
       "(550073, 8)"
      ]
     },
     "execution_count": 12,
     "metadata": {},
     "output_type": "execute_result"
    }
   ],
   "source": [
    "#Dropping Duplicates\n",
    "quality1=quality.drop_duplicates(subset=['State Name', 'District Name', 'Block Name', 'Panchayat Name',\n",
    "       'Village Name', 'Habitation Name', 'Quality Parameter', 'Year'], keep=False)\n",
    "quality1.shape"
   ]
  },
  {
   "cell_type": "code",
   "execution_count": 13,
   "id": "5cd0d494",
   "metadata": {},
   "outputs": [
    {
     "data": {
      "text/html": [
       "<div>\n",
       "<style scoped>\n",
       "    .dataframe tbody tr th:only-of-type {\n",
       "        vertical-align: middle;\n",
       "    }\n",
       "\n",
       "    .dataframe tbody tr th {\n",
       "        vertical-align: top;\n",
       "    }\n",
       "\n",
       "    .dataframe thead th {\n",
       "        text-align: right;\n",
       "    }\n",
       "</style>\n",
       "<table border=\"1\" class=\"dataframe\">\n",
       "  <thead>\n",
       "    <tr style=\"text-align: right;\">\n",
       "      <th></th>\n",
       "      <th>State Name</th>\n",
       "      <th>District Name</th>\n",
       "      <th>Block Name</th>\n",
       "      <th>Panchayat Name</th>\n",
       "      <th>Village Name</th>\n",
       "      <th>Habitation Name</th>\n",
       "      <th>Quality Parameter</th>\n",
       "      <th>Year</th>\n",
       "    </tr>\n",
       "  </thead>\n",
       "  <tbody>\n",
       "    <tr>\n",
       "      <th>count</th>\n",
       "      <td>550073</td>\n",
       "      <td>550073</td>\n",
       "      <td>550073</td>\n",
       "      <td>550073</td>\n",
       "      <td>550073</td>\n",
       "      <td>550073</td>\n",
       "      <td>550073</td>\n",
       "      <td>550073</td>\n",
       "    </tr>\n",
       "    <tr>\n",
       "      <th>unique</th>\n",
       "      <td>27</td>\n",
       "      <td>493</td>\n",
       "      <td>3577</td>\n",
       "      <td>37471</td>\n",
       "      <td>81702</td>\n",
       "      <td>147557</td>\n",
       "      <td>5</td>\n",
       "      <td>4</td>\n",
       "    </tr>\n",
       "    <tr>\n",
       "      <th>top</th>\n",
       "      <td>RAJASTHAN</td>\n",
       "      <td>BARMER</td>\n",
       "      <td>BALESAR</td>\n",
       "      <td>RATANPUR</td>\n",
       "      <td>RAMPUR</td>\n",
       "      <td>HARIJAN TOLA</td>\n",
       "      <td>Iron</td>\n",
       "      <td>1/4/2009</td>\n",
       "    </tr>\n",
       "    <tr>\n",
       "      <th>freq</th>\n",
       "      <td>131417</td>\n",
       "      <td>43752</td>\n",
       "      <td>8358</td>\n",
       "      <td>797</td>\n",
       "      <td>691</td>\n",
       "      <td>3072</td>\n",
       "      <td>302081</td>\n",
       "      <td>179932</td>\n",
       "    </tr>\n",
       "  </tbody>\n",
       "</table>\n",
       "</div>"
      ],
      "text/plain": [
       "       State Name District Name Block Name Panchayat Name Village Name  \\\n",
       "count      550073        550073     550073         550073       550073   \n",
       "unique         27           493       3577          37471        81702   \n",
       "top     RAJASTHAN        BARMER    BALESAR       RATANPUR       RAMPUR   \n",
       "freq       131417         43752       8358            797          691   \n",
       "\n",
       "       Habitation Name Quality Parameter      Year  \n",
       "count           550073            550073    550073  \n",
       "unique          147557                 5         4  \n",
       "top       HARIJAN TOLA              Iron  1/4/2009  \n",
       "freq              3072            302081    179932  "
      ]
     },
     "execution_count": 13,
     "metadata": {},
     "output_type": "execute_result"
    }
   ],
   "source": [
    "quality1.describe()"
   ]
  },
  {
   "cell_type": "markdown",
   "id": "64f85d24",
   "metadata": {},
   "source": [
    "So, Iron is the most frequent element that is causing water deqradation in the country."
   ]
  },
  {
   "cell_type": "code",
   "execution_count": null,
   "id": "755ca469",
   "metadata": {},
   "outputs": [],
   "source": []
  },
  {
   "cell_type": "code",
   "execution_count": 14,
   "id": "fd957f22",
   "metadata": {},
   "outputs": [
    {
     "data": {
      "text/plain": [
       "Iron        302081\n",
       "Salinity    108923\n",
       "Fluoride    101035\n",
       "Arsenic      25705\n",
       "Nitrate      12329\n",
       "Name: Quality Parameter, dtype: int64"
      ]
     },
     "execution_count": 14,
     "metadata": {},
     "output_type": "execute_result"
    }
   ],
   "source": [
    "quality1['Quality Parameter'].value_counts()"
   ]
  },
  {
   "cell_type": "code",
   "execution_count": null,
   "id": "8bc7185a",
   "metadata": {},
   "outputs": [],
   "source": []
  },
  {
   "cell_type": "code",
   "execution_count": 18,
   "id": "544e7e9a",
   "metadata": {},
   "outputs": [
    {
     "data": {
      "image/png": "[encoded data removed]",
      "text/plain": [
       "<Figure size 640x480 with 1 Axes>"
      ]
     },
     "metadata": {},
     "output_type": "display_data"
    }
   ],
   "source": [
    "sns.countplot(x=quality1['Quality Parameter'],color=\"red\")\n",
    "plt.show()"
   ]
  },
  {
   "cell_type": "code",
   "execution_count": null,
   "id": "806b6a47",
   "metadata": {},
   "outputs": [],
   "source": []
  },
  {
   "cell_type": "code",
   "execution_count": null,
   "id": "c4a2bb15",
   "metadata": {},
   "outputs": [],
   "source": []
  },
  {
   "cell_type": "code",
   "execution_count": 19,
   "id": "f6f5dc45",
   "metadata": {},
   "outputs": [
    {
     "data": {
      "text/plain": [
       "RAJASTHAN            131417\n",
       "BIHAR                 92328\n",
       "ASSAM                 79910\n",
       "ORISSA                68618\n",
       "KARNATAKA             30820\n",
       "WEST BENGAL           30088\n",
       "TRIPURA               26113\n",
       "CHATTISGARH           25062\n",
       "MADHYA PRADESH        14449\n",
       "MAHARASHTRA           12480\n",
       "UTTAR PRADESH          9916\n",
       "CHHATTISGARH           8815\n",
       "KERALA                 4800\n",
       "JHARKHAND              3895\n",
       "TAMIL NADU             3164\n",
       "ANDHRA PRADESH         2888\n",
       "GUJARAT                2092\n",
       "PUNJAB                 1056\n",
       "NAGALAND                618\n",
       "ARUNACHAL PRADESH       612\n",
       "MEGHALAYA               427\n",
       "HARYANA                 262\n",
       "HIMACHAL PRADESH         88\n",
       "JAMMU AND KASHMIR        67\n",
       "UTTARAKHAND              57\n",
       "PUDUCHERRY               17\n",
       "MANIPUR                  14\n",
       "Name: State Name, dtype: int64"
      ]
     },
     "execution_count": 19,
     "metadata": {},
     "output_type": "execute_result"
    }
   ],
   "source": [
    "quality1['State Name'].value_counts()"
   ]
  },
  {
   "cell_type": "code",
   "execution_count": 24,
   "id": "21bc679a",
   "metadata": {},
   "outputs": [
    {
     "data": {
      "image/png": "[encoded data removed]",
      "text/plain": [
       "<Figure size 640x480 with 1 Axes>"
      ]
     },
     "metadata": {},
     "output_type": "display_data"
    }
   ],
   "source": [
    "sns.countplot(x=quality1['State Name'], color=\"yellow\")\n",
    "plt.show()"
   ]
  },
  {
   "cell_type": "markdown",
   "id": "3a246506",
   "metadata": {},
   "source": [
    "Rajasthan is in the first place to face water degradation."
   ]
  },
  {
   "cell_type": "code",
   "execution_count": 25,
   "id": "7b8f1f8d",
   "metadata": {},
   "outputs": [
    {
     "data": {
      "text/html": [
       "<div>\n",
       "<style scoped>\n",
       "    .dataframe tbody tr th:only-of-type {\n",
       "        vertical-align: middle;\n",
       "    }\n",
       "\n",
       "    .dataframe tbody tr th {\n",
       "        vertical-align: top;\n",
       "    }\n",
       "\n",
       "    .dataframe thead th {\n",
       "        text-align: right;\n",
       "    }\n",
       "</style>\n",
       "<table border=\"1\" class=\"dataframe\">\n",
       "  <thead>\n",
       "    <tr style=\"text-align: right;\">\n",
       "      <th></th>\n",
       "      <th>count</th>\n",
       "      <th>unique</th>\n",
       "      <th>top</th>\n",
       "      <th>freq</th>\n",
       "    </tr>\n",
       "    <tr>\n",
       "      <th>State Name</th>\n",
       "      <th></th>\n",
       "      <th></th>\n",
       "      <th></th>\n",
       "      <th></th>\n",
       "    </tr>\n",
       "  </thead>\n",
       "  <tbody>\n",
       "    <tr>\n",
       "      <th>ANDHRA PRADESH</th>\n",
       "      <td>2888</td>\n",
       "      <td>2</td>\n",
       "      <td>Fluoride</td>\n",
       "      <td>2193</td>\n",
       "    </tr>\n",
       "    <tr>\n",
       "      <th>ARUNACHAL PRADESH</th>\n",
       "      <td>612</td>\n",
       "      <td>1</td>\n",
       "      <td>Iron</td>\n",
       "      <td>612</td>\n",
       "    </tr>\n",
       "    <tr>\n",
       "      <th>ASSAM</th>\n",
       "      <td>79910</td>\n",
       "      <td>3</td>\n",
       "      <td>Iron</td>\n",
       "      <td>74098</td>\n",
       "    </tr>\n",
       "    <tr>\n",
       "      <th>BIHAR</th>\n",
       "      <td>92328</td>\n",
       "      <td>4</td>\n",
       "      <td>Iron</td>\n",
       "      <td>69962</td>\n",
       "    </tr>\n",
       "    <tr>\n",
       "      <th>CHATTISGARH</th>\n",
       "      <td>25062</td>\n",
       "      <td>5</td>\n",
       "      <td>Iron</td>\n",
       "      <td>24439</td>\n",
       "    </tr>\n",
       "    <tr>\n",
       "      <th>CHHATTISGARH</th>\n",
       "      <td>8815</td>\n",
       "      <td>3</td>\n",
       "      <td>Iron</td>\n",
       "      <td>8339</td>\n",
       "    </tr>\n",
       "    <tr>\n",
       "      <th>GUJARAT</th>\n",
       "      <td>2092</td>\n",
       "      <td>4</td>\n",
       "      <td>Fluoride</td>\n",
       "      <td>804</td>\n",
       "    </tr>\n",
       "    <tr>\n",
       "      <th>HARYANA</th>\n",
       "      <td>262</td>\n",
       "      <td>2</td>\n",
       "      <td>Fluoride</td>\n",
       "      <td>244</td>\n",
       "    </tr>\n",
       "    <tr>\n",
       "      <th>HIMACHAL PRADESH</th>\n",
       "      <td>88</td>\n",
       "      <td>3</td>\n",
       "      <td>Salinity</td>\n",
       "      <td>72</td>\n",
       "    </tr>\n",
       "    <tr>\n",
       "      <th>JAMMU AND KASHMIR</th>\n",
       "      <td>67</td>\n",
       "      <td>3</td>\n",
       "      <td>Salinity</td>\n",
       "      <td>40</td>\n",
       "    </tr>\n",
       "    <tr>\n",
       "      <th>JHARKHAND</th>\n",
       "      <td>3895</td>\n",
       "      <td>5</td>\n",
       "      <td>Iron</td>\n",
       "      <td>3238</td>\n",
       "    </tr>\n",
       "    <tr>\n",
       "      <th>KARNATAKA</th>\n",
       "      <td>30820</td>\n",
       "      <td>5</td>\n",
       "      <td>Fluoride</td>\n",
       "      <td>13152</td>\n",
       "    </tr>\n",
       "    <tr>\n",
       "      <th>KERALA</th>\n",
       "      <td>4800</td>\n",
       "      <td>4</td>\n",
       "      <td>Iron</td>\n",
       "      <td>3161</td>\n",
       "    </tr>\n",
       "    <tr>\n",
       "      <th>MADHYA PRADESH</th>\n",
       "      <td>14449</td>\n",
       "      <td>4</td>\n",
       "      <td>Fluoride</td>\n",
       "      <td>12762</td>\n",
       "    </tr>\n",
       "    <tr>\n",
       "      <th>MAHARASHTRA</th>\n",
       "      <td>12480</td>\n",
       "      <td>5</td>\n",
       "      <td>Fluoride</td>\n",
       "      <td>4184</td>\n",
       "    </tr>\n",
       "    <tr>\n",
       "      <th>MANIPUR</th>\n",
       "      <td>14</td>\n",
       "      <td>1</td>\n",
       "      <td>Iron</td>\n",
       "      <td>14</td>\n",
       "    </tr>\n",
       "    <tr>\n",
       "      <th>MEGHALAYA</th>\n",
       "      <td>427</td>\n",
       "      <td>2</td>\n",
       "      <td>Iron</td>\n",
       "      <td>425</td>\n",
       "    </tr>\n",
       "    <tr>\n",
       "      <th>NAGALAND</th>\n",
       "      <td>618</td>\n",
       "      <td>1</td>\n",
       "      <td>Iron</td>\n",
       "      <td>618</td>\n",
       "    </tr>\n",
       "    <tr>\n",
       "      <th>ORISSA</th>\n",
       "      <td>68618</td>\n",
       "      <td>5</td>\n",
       "      <td>Iron</td>\n",
       "      <td>59903</td>\n",
       "    </tr>\n",
       "    <tr>\n",
       "      <th>PUDUCHERRY</th>\n",
       "      <td>17</td>\n",
       "      <td>2</td>\n",
       "      <td>Iron</td>\n",
       "      <td>16</td>\n",
       "    </tr>\n",
       "    <tr>\n",
       "      <th>PUNJAB</th>\n",
       "      <td>1056</td>\n",
       "      <td>3</td>\n",
       "      <td>Salinity</td>\n",
       "      <td>894</td>\n",
       "    </tr>\n",
       "    <tr>\n",
       "      <th>RAJASTHAN</th>\n",
       "      <td>131417</td>\n",
       "      <td>5</td>\n",
       "      <td>Salinity</td>\n",
       "      <td>87137</td>\n",
       "    </tr>\n",
       "    <tr>\n",
       "      <th>TAMIL NADU</th>\n",
       "      <td>3164</td>\n",
       "      <td>4</td>\n",
       "      <td>Iron</td>\n",
       "      <td>2119</td>\n",
       "    </tr>\n",
       "    <tr>\n",
       "      <th>TRIPURA</th>\n",
       "      <td>26113</td>\n",
       "      <td>1</td>\n",
       "      <td>Iron</td>\n",
       "      <td>26113</td>\n",
       "    </tr>\n",
       "    <tr>\n",
       "      <th>UTTAR PRADESH</th>\n",
       "      <td>9916</td>\n",
       "      <td>5</td>\n",
       "      <td>Iron</td>\n",
       "      <td>3374</td>\n",
       "    </tr>\n",
       "    <tr>\n",
       "      <th>UTTARAKHAND</th>\n",
       "      <td>57</td>\n",
       "      <td>4</td>\n",
       "      <td>Iron</td>\n",
       "      <td>35</td>\n",
       "    </tr>\n",
       "    <tr>\n",
       "      <th>WEST BENGAL</th>\n",
       "      <td>30088</td>\n",
       "      <td>4</td>\n",
       "      <td>Arsenic</td>\n",
       "      <td>12382</td>\n",
       "    </tr>\n",
       "  </tbody>\n",
       "</table>\n",
       "</div>"
      ],
      "text/plain": [
       "                    count unique       top   freq\n",
       "State Name                                       \n",
       "ANDHRA PRADESH       2888      2  Fluoride   2193\n",
       "ARUNACHAL PRADESH     612      1      Iron    612\n",
       "ASSAM               79910      3      Iron  74098\n",
       "BIHAR               92328      4      Iron  69962\n",
       "CHATTISGARH         25062      5      Iron  24439\n",
       "CHHATTISGARH         8815      3      Iron   8339\n",
       "GUJARAT              2092      4  Fluoride    804\n",
       "HARYANA               262      2  Fluoride    244\n",
       "HIMACHAL PRADESH       88      3  Salinity     72\n",
       "JAMMU AND KASHMIR      67      3  Salinity     40\n",
       "JHARKHAND            3895      5      Iron   3238\n",
       "KARNATAKA           30820      5  Fluoride  13152\n",
       "KERALA               4800      4      Iron   3161\n",
       "MADHYA PRADESH      14449      4  Fluoride  12762\n",
       "MAHARASHTRA         12480      5  Fluoride   4184\n",
       "MANIPUR                14      1      Iron     14\n",
       "MEGHALAYA             427      2      Iron    425\n",
       "NAGALAND              618      1      Iron    618\n",
       "ORISSA              68618      5      Iron  59903\n",
       "PUDUCHERRY             17      2      Iron     16\n",
       "PUNJAB               1056      3  Salinity    894\n",
       "RAJASTHAN          131417      5  Salinity  87137\n",
       "TAMIL NADU           3164      4      Iron   2119\n",
       "TRIPURA             26113      1      Iron  26113\n",
       "UTTAR PRADESH        9916      5      Iron   3374\n",
       "UTTARAKHAND            57      4      Iron     35\n",
       "WEST BENGAL         30088      4   Arsenic  12382"
      ]
     },
     "execution_count": 25,
     "metadata": {},
     "output_type": "execute_result"
    }
   ],
   "source": [
    "quality1['Quality Parameter'].groupby(quality1['State Name']).describe()"
   ]
  },
  {
   "cell_type": "code",
   "execution_count": null,
   "id": "8f639123",
   "metadata": {},
   "outputs": [],
   "source": []
  },
  {
   "cell_type": "code",
   "execution_count": 26,
   "id": "b447e3a3",
   "metadata": {},
   "outputs": [
    {
     "name": "stderr",
     "output_type": "stream",
     "text": [
      "C:\\Users\\ANGEL\\AppData\\Local\\Temp\\ipykernel_20368\\3800254686.py:2: SettingWithCopyWarning: \n",
      "A value is trying to be set on a copy of a slice from a DataFrame.\n",
      "Try using .loc[row_indexer,col_indexer] = value instead\n",
      "\n",
      "See the caveats in the documentation: https://pandas.pydata.org/pandas-docs/stable/user_guide/indexing.html#returning-a-view-versus-a-copy\n",
      "  quality1['year'] = pd.DatetimeIndex(quality1['Year']).year\n"
     ]
    }
   ],
   "source": [
    "#Splitting the Year column to retain just the year\n",
    "quality1['year'] = pd.DatetimeIndex(quality1['Year']).year\n",
    "quality1=quality1.drop(columns='Year')"
   ]
  },
  {
   "cell_type": "code",
   "execution_count": null,
   "id": "92912deb",
   "metadata": {},
   "outputs": [],
   "source": []
  },
  {
   "cell_type": "code",
   "execution_count": null,
   "id": "9aa1f0a0",
   "metadata": {},
   "outputs": [],
   "source": []
  },
  {
   "cell_type": "code",
   "execution_count": 27,
   "id": "9742c5fa",
   "metadata": {},
   "outputs": [],
   "source": [
    "#Subsetting the data\n",
    "quality1_new=quality1.loc[quality['State Name'].isin(['RAJASTHAN','BIHAR','ASSAM','ORISSA'])] \n",
    "Subset_Data = quality1_new[['State Name', 'Quality Parameter', 'year']]"
   ]
  },
  {
   "cell_type": "code",
   "execution_count": 28,
   "id": "8ce217df",
   "metadata": {},
   "outputs": [
    {
     "name": "stderr",
     "output_type": "stream",
     "text": [
      "C:\\Users\\ANGEL\\AppData\\Local\\Temp\\ipykernel_20368\\2818118433.py:5: SettingWithCopyWarning: \n",
      "A value is trying to be set on a copy of a slice from a DataFrame.\n",
      "Try using .loc[row_indexer,col_indexer] = value instead\n",
      "\n",
      "See the caveats in the documentation: https://pandas.pydata.org/pandas-docs/stable/user_guide/indexing.html#returning-a-view-versus-a-copy\n",
      "  Subset_Data['Quality'] = numbers.fit_transform(Subset_Data['Quality Parameter'].astype('str'))\n"
     ]
    }
   ],
   "source": [
    "#Assigning a numerical value to all the Quality Parameters\n",
    "import sklearn\n",
    "from sklearn.preprocessing import LabelEncoder\n",
    "numbers = LabelEncoder()\n",
    "Subset_Data['Quality'] = numbers.fit_transform(Subset_Data['Quality Parameter'].astype('str'))"
   ]
  },
  {
   "cell_type": "code",
   "execution_count": 29,
   "id": "06ceb57d",
   "metadata": {},
   "outputs": [
    {
     "data": {
      "text/html": [
       "<div>\n",
       "<style scoped>\n",
       "    .dataframe tbody tr th:only-of-type {\n",
       "        vertical-align: middle;\n",
       "    }\n",
       "\n",
       "    .dataframe tbody tr th {\n",
       "        vertical-align: top;\n",
       "    }\n",
       "\n",
       "    .dataframe thead th {\n",
       "        text-align: right;\n",
       "    }\n",
       "</style>\n",
       "<table border=\"1\" class=\"dataframe\">\n",
       "  <thead>\n",
       "    <tr style=\"text-align: right;\">\n",
       "      <th></th>\n",
       "      <th>State Name</th>\n",
       "      <th>Quality</th>\n",
       "      <th>Quality Parameter</th>\n",
       "      <th>count</th>\n",
       "    </tr>\n",
       "  </thead>\n",
       "  <tbody>\n",
       "    <tr>\n",
       "      <th>0</th>\n",
       "      <td>ASSAM</td>\n",
       "      <td>0</td>\n",
       "      <td>Arsenic</td>\n",
       "      <td>4775</td>\n",
       "    </tr>\n",
       "    <tr>\n",
       "      <th>1</th>\n",
       "      <td>ASSAM</td>\n",
       "      <td>1</td>\n",
       "      <td>Fluoride</td>\n",
       "      <td>1037</td>\n",
       "    </tr>\n",
       "    <tr>\n",
       "      <th>2</th>\n",
       "      <td>ASSAM</td>\n",
       "      <td>2</td>\n",
       "      <td>Iron</td>\n",
       "      <td>74098</td>\n",
       "    </tr>\n",
       "    <tr>\n",
       "      <th>3</th>\n",
       "      <td>BIHAR</td>\n",
       "      <td>0</td>\n",
       "      <td>Arsenic</td>\n",
       "      <td>6215</td>\n",
       "    </tr>\n",
       "    <tr>\n",
       "      <th>4</th>\n",
       "      <td>BIHAR</td>\n",
       "      <td>1</td>\n",
       "      <td>Fluoride</td>\n",
       "      <td>16150</td>\n",
       "    </tr>\n",
       "  </tbody>\n",
       "</table>\n",
       "</div>"
      ],
      "text/plain": [
       "  State Name  Quality Quality Parameter  count\n",
       "0      ASSAM        0           Arsenic   4775\n",
       "1      ASSAM        1          Fluoride   1037\n",
       "2      ASSAM        2              Iron  74098\n",
       "3      BIHAR        0           Arsenic   6215\n",
       "4      BIHAR        1          Fluoride  16150"
      ]
     },
     "execution_count": 29,
     "metadata": {},
     "output_type": "execute_result"
    }
   ],
   "source": [
    "State_Quality_Count = pd.DataFrame({'count' : Subset_Data.groupby( [ \"State Name\", \"Quality\",\"Quality Parameter\"] ).size()}).reset_index()\n",
    "State_Quality_Count.head()\n"
   ]
  },
  {
   "cell_type": "code",
   "execution_count": null,
   "id": "b1887390",
   "metadata": {},
   "outputs": [],
   "source": []
  },
  {
   "cell_type": "code",
   "execution_count": null,
   "id": "94cb8e67",
   "metadata": {},
   "outputs": [],
   "source": []
  },
  {
   "cell_type": "code",
   "execution_count": 30,
   "id": "4741ed95",
   "metadata": {},
   "outputs": [
    {
     "data": {
      "text/html": [
       "<div>\n",
       "<style scoped>\n",
       "    .dataframe tbody tr th:only-of-type {\n",
       "        vertical-align: middle;\n",
       "    }\n",
       "\n",
       "    .dataframe tbody tr th {\n",
       "        vertical-align: top;\n",
       "    }\n",
       "\n",
       "    .dataframe thead th {\n",
       "        text-align: right;\n",
       "    }\n",
       "</style>\n",
       "<table border=\"1\" class=\"dataframe\">\n",
       "  <thead>\n",
       "    <tr style=\"text-align: right;\">\n",
       "      <th></th>\n",
       "      <th>State Name</th>\n",
       "      <th>Quality</th>\n",
       "      <th>Quality Parameter</th>\n",
       "      <th>count</th>\n",
       "    </tr>\n",
       "  </thead>\n",
       "  <tbody>\n",
       "    <tr>\n",
       "      <th>16</th>\n",
       "      <td>RAJASTHAN</td>\n",
       "      <td>4</td>\n",
       "      <td>Salinity</td>\n",
       "      <td>87137</td>\n",
       "    </tr>\n",
       "    <tr>\n",
       "      <th>2</th>\n",
       "      <td>ASSAM</td>\n",
       "      <td>2</td>\n",
       "      <td>Iron</td>\n",
       "      <td>74098</td>\n",
       "    </tr>\n",
       "    <tr>\n",
       "      <th>5</th>\n",
       "      <td>BIHAR</td>\n",
       "      <td>2</td>\n",
       "      <td>Iron</td>\n",
       "      <td>69962</td>\n",
       "    </tr>\n",
       "    <tr>\n",
       "      <th>9</th>\n",
       "      <td>ORISSA</td>\n",
       "      <td>2</td>\n",
       "      <td>Iron</td>\n",
       "      <td>59903</td>\n",
       "    </tr>\n",
       "    <tr>\n",
       "      <th>13</th>\n",
       "      <td>RAJASTHAN</td>\n",
       "      <td>1</td>\n",
       "      <td>Fluoride</td>\n",
       "      <td>40417</td>\n",
       "    </tr>\n",
       "  </tbody>\n",
       "</table>\n",
       "</div>"
      ],
      "text/plain": [
       "   State Name  Quality Quality Parameter  count\n",
       "16  RAJASTHAN        4          Salinity  87137\n",
       "2       ASSAM        2              Iron  74098\n",
       "5       BIHAR        2              Iron  69962\n",
       "9      ORISSA        2              Iron  59903\n",
       "13  RAJASTHAN        1          Fluoride  40417"
      ]
     },
     "execution_count": 30,
     "metadata": {},
     "output_type": "execute_result"
    }
   ],
   "source": [
    "High_Quality_count = State_Quality_Count.sort_values(['count'], ascending=[False])\n",
    "High_Quality_count.head()"
   ]
  },
  {
   "cell_type": "code",
   "execution_count": null,
   "id": "8ccc5894",
   "metadata": {},
   "outputs": [],
   "source": []
  },
  {
   "cell_type": "code",
   "execution_count": 31,
   "id": "6e3da0c5",
   "metadata": {},
   "outputs": [
    {
     "data": {
      "text/html": [
       "<div>\n",
       "<style scoped>\n",
       "    .dataframe tbody tr th:only-of-type {\n",
       "        vertical-align: middle;\n",
       "    }\n",
       "\n",
       "    .dataframe tbody tr th {\n",
       "        vertical-align: top;\n",
       "    }\n",
       "\n",
       "    .dataframe thead th {\n",
       "        text-align: right;\n",
       "    }\n",
       "</style>\n",
       "<table border=\"1\" class=\"dataframe\">\n",
       "  <thead>\n",
       "    <tr style=\"text-align: right;\">\n",
       "      <th></th>\n",
       "      <th>State Name</th>\n",
       "      <th>Quality</th>\n",
       "      <th>Quality Parameter</th>\n",
       "      <th>year</th>\n",
       "      <th>count</th>\n",
       "    </tr>\n",
       "  </thead>\n",
       "  <tbody>\n",
       "    <tr>\n",
       "      <th>0</th>\n",
       "      <td>ASSAM</td>\n",
       "      <td>0</td>\n",
       "      <td>Arsenic</td>\n",
       "      <td>2009</td>\n",
       "      <td>810</td>\n",
       "    </tr>\n",
       "    <tr>\n",
       "      <th>1</th>\n",
       "      <td>ASSAM</td>\n",
       "      <td>0</td>\n",
       "      <td>Arsenic</td>\n",
       "      <td>2010</td>\n",
       "      <td>719</td>\n",
       "    </tr>\n",
       "    <tr>\n",
       "      <th>2</th>\n",
       "      <td>ASSAM</td>\n",
       "      <td>0</td>\n",
       "      <td>Arsenic</td>\n",
       "      <td>2011</td>\n",
       "      <td>2089</td>\n",
       "    </tr>\n",
       "    <tr>\n",
       "      <th>3</th>\n",
       "      <td>ASSAM</td>\n",
       "      <td>0</td>\n",
       "      <td>Arsenic</td>\n",
       "      <td>2012</td>\n",
       "      <td>1157</td>\n",
       "    </tr>\n",
       "    <tr>\n",
       "      <th>4</th>\n",
       "      <td>ASSAM</td>\n",
       "      <td>1</td>\n",
       "      <td>Fluoride</td>\n",
       "      <td>2009</td>\n",
       "      <td>517</td>\n",
       "    </tr>\n",
       "    <tr>\n",
       "      <th>...</th>\n",
       "      <td>...</td>\n",
       "      <td>...</td>\n",
       "      <td>...</td>\n",
       "      <td>...</td>\n",
       "      <td>...</td>\n",
       "    </tr>\n",
       "    <tr>\n",
       "      <th>57</th>\n",
       "      <td>RAJASTHAN</td>\n",
       "      <td>3</td>\n",
       "      <td>Nitrate</td>\n",
       "      <td>2012</td>\n",
       "      <td>624</td>\n",
       "    </tr>\n",
       "    <tr>\n",
       "      <th>58</th>\n",
       "      <td>RAJASTHAN</td>\n",
       "      <td>4</td>\n",
       "      <td>Salinity</td>\n",
       "      <td>2009</td>\n",
       "      <td>24787</td>\n",
       "    </tr>\n",
       "    <tr>\n",
       "      <th>59</th>\n",
       "      <td>RAJASTHAN</td>\n",
       "      <td>4</td>\n",
       "      <td>Salinity</td>\n",
       "      <td>2010</td>\n",
       "      <td>23168</td>\n",
       "    </tr>\n",
       "    <tr>\n",
       "      <th>60</th>\n",
       "      <td>RAJASTHAN</td>\n",
       "      <td>4</td>\n",
       "      <td>Salinity</td>\n",
       "      <td>2011</td>\n",
       "      <td>20258</td>\n",
       "    </tr>\n",
       "    <tr>\n",
       "      <th>61</th>\n",
       "      <td>RAJASTHAN</td>\n",
       "      <td>4</td>\n",
       "      <td>Salinity</td>\n",
       "      <td>2012</td>\n",
       "      <td>18924</td>\n",
       "    </tr>\n",
       "  </tbody>\n",
       "</table>\n",
       "<p>62 rows × 5 columns</p>\n",
       "</div>"
      ],
      "text/plain": [
       "   State Name  Quality Quality Parameter  year  count\n",
       "0       ASSAM        0           Arsenic  2009    810\n",
       "1       ASSAM        0           Arsenic  2010    719\n",
       "2       ASSAM        0           Arsenic  2011   2089\n",
       "3       ASSAM        0           Arsenic  2012   1157\n",
       "4       ASSAM        1          Fluoride  2009    517\n",
       "..        ...      ...               ...   ...    ...\n",
       "57  RAJASTHAN        3           Nitrate  2012    624\n",
       "58  RAJASTHAN        4          Salinity  2009  24787\n",
       "59  RAJASTHAN        4          Salinity  2010  23168\n",
       "60  RAJASTHAN        4          Salinity  2011  20258\n",
       "61  RAJASTHAN        4          Salinity  2012  18924\n",
       "\n",
       "[62 rows x 5 columns]"
      ]
     },
     "execution_count": 31,
     "metadata": {},
     "output_type": "execute_result"
    }
   ],
   "source": [
    "State_Quality_Count_year = pd.DataFrame({'count' : Subset_Data.groupby( [ \"State Name\", \"Quality\",\"Quality Parameter\",\"year\"] ).size()}).reset_index()\n",
    "State_Quality_Count_year\n"
   ]
  },
  {
   "cell_type": "code",
   "execution_count": null,
   "id": "0dd45e0e",
   "metadata": {},
   "outputs": [],
   "source": []
  },
  {
   "cell_type": "code",
   "execution_count": 32,
   "id": "3203631c",
   "metadata": {},
   "outputs": [
    {
     "data": {
      "text/html": [
       "<div>\n",
       "<style scoped>\n",
       "    .dataframe tbody tr th:only-of-type {\n",
       "        vertical-align: middle;\n",
       "    }\n",
       "\n",
       "    .dataframe tbody tr th {\n",
       "        vertical-align: top;\n",
       "    }\n",
       "\n",
       "    .dataframe thead th {\n",
       "        text-align: right;\n",
       "    }\n",
       "</style>\n",
       "<table border=\"1\" class=\"dataframe\">\n",
       "  <thead>\n",
       "    <tr style=\"text-align: right;\">\n",
       "      <th></th>\n",
       "      <th>State Name</th>\n",
       "      <th>Quality</th>\n",
       "      <th>Quality Parameter</th>\n",
       "      <th>year</th>\n",
       "      <th>count</th>\n",
       "      <th>rank</th>\n",
       "    </tr>\n",
       "  </thead>\n",
       "  <tbody>\n",
       "    <tr>\n",
       "      <th>0</th>\n",
       "      <td>ASSAM</td>\n",
       "      <td>0</td>\n",
       "      <td>Arsenic</td>\n",
       "      <td>2009</td>\n",
       "      <td>810</td>\n",
       "      <td>3.0</td>\n",
       "    </tr>\n",
       "    <tr>\n",
       "      <th>1</th>\n",
       "      <td>ASSAM</td>\n",
       "      <td>0</td>\n",
       "      <td>Arsenic</td>\n",
       "      <td>2010</td>\n",
       "      <td>719</td>\n",
       "      <td>4.0</td>\n",
       "    </tr>\n",
       "    <tr>\n",
       "      <th>2</th>\n",
       "      <td>ASSAM</td>\n",
       "      <td>0</td>\n",
       "      <td>Arsenic</td>\n",
       "      <td>2011</td>\n",
       "      <td>2089</td>\n",
       "      <td>1.0</td>\n",
       "    </tr>\n",
       "    <tr>\n",
       "      <th>3</th>\n",
       "      <td>ASSAM</td>\n",
       "      <td>0</td>\n",
       "      <td>Arsenic</td>\n",
       "      <td>2012</td>\n",
       "      <td>1157</td>\n",
       "      <td>2.0</td>\n",
       "    </tr>\n",
       "    <tr>\n",
       "      <th>4</th>\n",
       "      <td>ASSAM</td>\n",
       "      <td>1</td>\n",
       "      <td>Fluoride</td>\n",
       "      <td>2009</td>\n",
       "      <td>517</td>\n",
       "      <td>1.0</td>\n",
       "    </tr>\n",
       "  </tbody>\n",
       "</table>\n",
       "</div>"
      ],
      "text/plain": [
       "  State Name  Quality Quality Parameter  year  count  rank\n",
       "0      ASSAM        0           Arsenic  2009    810   3.0\n",
       "1      ASSAM        0           Arsenic  2010    719   4.0\n",
       "2      ASSAM        0           Arsenic  2011   2089   1.0\n",
       "3      ASSAM        0           Arsenic  2012   1157   2.0\n",
       "4      ASSAM        1          Fluoride  2009    517   1.0"
      ]
     },
     "execution_count": 32,
     "metadata": {},
     "output_type": "execute_result"
    }
   ],
   "source": [
    "State_Quality_Count_year['rank']=State_Quality_Count_year.groupby(['State Name','Quality'])['count'].rank(\"dense\", ascending=False)\n",
    "State_Quality_Count_year.head()"
   ]
  },
  {
   "cell_type": "code",
   "execution_count": null,
   "id": "0b3674d7",
   "metadata": {},
   "outputs": [],
   "source": []
  },
  {
   "cell_type": "code",
   "execution_count": 33,
   "id": "cdb2321f",
   "metadata": {},
   "outputs": [],
   "source": [
    "Top_count=State_Quality_Count_year[State_Quality_Count_year['rank']==1]"
   ]
  },
  {
   "cell_type": "code",
   "execution_count": null,
   "id": "a5cc0e1a",
   "metadata": {},
   "outputs": [],
   "source": []
  },
  {
   "cell_type": "code",
   "execution_count": 35,
   "id": "0a71d6f3",
   "metadata": {},
   "outputs": [
    {
     "data": {
      "image/png": "[encoded data removed]",
      "text/plain": [
       "<Figure size 900x500 with 1 Axes>"
      ]
     },
     "metadata": {},
     "output_type": "display_data"
    }
   ],
   "source": [
    "freq_plot = Top_count['year'].value_counts().plot(kind='bar',figsize=(9,5),color=\"orange\",title=\"Year with highest water degradation\")\n",
    "freq_plot.set_xlabel(\"Year\")\n",
    "freq_plot.set_ylabel(\"Frequency\")\n",
    "plt.show()\n"
   ]
  },
  {
   "cell_type": "code",
   "execution_count": null,
   "id": "b7176cad",
   "metadata": {},
   "outputs": [],
   "source": []
  },
  {
   "cell_type": "code",
   "execution_count": 36,
   "id": "80d86432",
   "metadata": {},
   "outputs": [
    {
     "name": "stderr",
     "output_type": "stream",
     "text": [
      "C:\\Users\\ANGEL\\AppData\\Local\\Temp\\ipykernel_20368\\3217213346.py:2: SettingWithCopyWarning: \n",
      "A value is trying to be set on a copy of a slice from a DataFrame.\n",
      "Try using .loc[row_indexer,col_indexer] = value instead\n",
      "\n",
      "See the caveats in the documentation: https://pandas.pydata.org/pandas-docs/stable/user_guide/indexing.html#returning-a-view-versus-a-copy\n",
      "  Subset_Data2['Quality'] = numbers.fit_transform(Subset_Data2['Quality Parameter'].astype('str'))\n"
     ]
    }
   ],
   "source": [
    "Subset_Data2 = quality1[['State Name', 'Quality Parameter', 'year']]\n",
    "Subset_Data2['Quality'] = numbers.fit_transform(Subset_Data2['Quality Parameter'].astype('str'))\n",
    "SQT = pd.DataFrame({'count' : Subset_Data2.groupby( [ \"State Name\", \"Quality\",\"Quality Parameter\",\"year\"] ).size()}).reset_index()\n",
    "SQT['rank']=SQT.groupby(['State Name','Quality'])['count'].rank(\"dense\", ascending=False)\n",
    "Top_count2=SQT[SQT['rank']==1]"
   ]
  },
  {
   "cell_type": "code",
   "execution_count": null,
   "id": "509bf2c7",
   "metadata": {},
   "outputs": [],
   "source": []
  },
  {
   "cell_type": "code",
   "execution_count": 38,
   "id": "c5b57613",
   "metadata": {},
   "outputs": [
    {
     "data": {
      "image/png": "[encoded data removed]",
      "text/plain": [
       "<Figure size 500x300 with 1 Axes>"
      ]
     },
     "metadata": {},
     "output_type": "display_data"
    }
   ],
   "source": [
    "freq_plot = Top_count2['year'].value_counts().plot(kind='bar',figsize=(5,3),color=\"purple\",title=\"Year with highest water degradation\")\n",
    "freq_plot.set_xlabel(\"Year\")\n",
    "freq_plot.set_ylabel(\"Frequency\")\n",
    "plt.show()"
   ]
  },
  {
   "cell_type": "markdown",
   "id": "d48c895b",
   "metadata": {},
   "source": [
    "So, 2009 remained to be the year with highest degration where as 2011 has shifted to last position when plotted on entire data."
   ]
  },
  {
   "cell_type": "code",
   "execution_count": null,
   "id": "5f67771d",
   "metadata": {},
   "outputs": [],
   "source": []
  },
  {
   "cell_type": "code",
   "execution_count": 39,
   "id": "fd5e6fac",
   "metadata": {},
   "outputs": [
    {
     "data": {
      "text/html": [
       "<div>\n",
       "<style scoped>\n",
       "    .dataframe tbody tr th:only-of-type {\n",
       "        vertical-align: middle;\n",
       "    }\n",
       "\n",
       "    .dataframe tbody tr th {\n",
       "        vertical-align: top;\n",
       "    }\n",
       "\n",
       "    .dataframe thead th {\n",
       "        text-align: right;\n",
       "    }\n",
       "</style>\n",
       "<table border=\"1\" class=\"dataframe\">\n",
       "  <thead>\n",
       "    <tr style=\"text-align: right;\">\n",
       "      <th></th>\n",
       "      <th>Quality</th>\n",
       "      <th>year</th>\n",
       "      <th>count</th>\n",
       "    </tr>\n",
       "  </thead>\n",
       "  <tbody>\n",
       "    <tr>\n",
       "      <th>0</th>\n",
       "      <td>0</td>\n",
       "      <td>2009</td>\n",
       "      <td>9504</td>\n",
       "    </tr>\n",
       "    <tr>\n",
       "      <th>1</th>\n",
       "      <td>0</td>\n",
       "      <td>2010</td>\n",
       "      <td>6548</td>\n",
       "    </tr>\n",
       "    <tr>\n",
       "      <th>2</th>\n",
       "      <td>0</td>\n",
       "      <td>2011</td>\n",
       "      <td>5339</td>\n",
       "    </tr>\n",
       "    <tr>\n",
       "      <th>3</th>\n",
       "      <td>0</td>\n",
       "      <td>2012</td>\n",
       "      <td>4314</td>\n",
       "    </tr>\n",
       "    <tr>\n",
       "      <th>4</th>\n",
       "      <td>1</td>\n",
       "      <td>2009</td>\n",
       "      <td>33361</td>\n",
       "    </tr>\n",
       "  </tbody>\n",
       "</table>\n",
       "</div>"
      ],
      "text/plain": [
       "   Quality  year  count\n",
       "0        0  2009   9504\n",
       "1        0  2010   6548\n",
       "2        0  2011   5339\n",
       "3        0  2012   4314\n",
       "4        1  2009  33361"
      ]
     },
     "execution_count": 39,
     "metadata": {},
     "output_type": "execute_result"
    }
   ],
   "source": [
    "Quality = pd.DataFrame({'count' : Subset_Data2.groupby( [ \"Quality\",\"year\"] ).size()}).reset_index()\n",
    "Quality.head()"
   ]
  },
  {
   "cell_type": "code",
   "execution_count": 41,
   "id": "0ff1f8b0",
   "metadata": {},
   "outputs": [
    {
     "data": {
      "image/png": "[encoded data removed]",
      "text/plain": [
       "<Figure size 640x480 with 1 Axes>"
      ]
     },
     "metadata": {},
     "output_type": "display_data"
    }
   ],
   "source": [
    "Arsenic=Quality[Quality['Quality']==0]\n",
    "Arsenic.plot('year','count',kind='scatter', layout=(5,5),color= \"red\",title= \"Arsenic distribution\")\n",
    "plt.show()"
   ]
  },
  {
   "cell_type": "code",
   "execution_count": null,
   "id": "49b7a060",
   "metadata": {},
   "outputs": [],
   "source": []
  },
  {
   "cell_type": "code",
   "execution_count": 43,
   "id": "cdf93c44",
   "metadata": {},
   "outputs": [
    {
     "data": {
      "image/png": "[encoded data removed]",
      "text/plain": [
       "<Figure size 640x480 with 1 Axes>"
      ]
     },
     "metadata": {},
     "output_type": "display_data"
    }
   ],
   "source": [
    "Fluoride=Quality[Quality['Quality']==1]\n",
    "Fluoride.plot(\"year\",'count',kind='scatter', layout=(5,5),color=\"green\", title= \"Fluoride distribution\")\n",
    "plt.show()"
   ]
  },
  {
   "cell_type": "code",
   "execution_count": null,
   "id": "c8e6435c",
   "metadata": {},
   "outputs": [],
   "source": []
  },
  {
   "cell_type": "code",
   "execution_count": 44,
   "id": "7dca47fb",
   "metadata": {},
   "outputs": [
    {
     "data": {
      "image/png": "[encoded data removed]",
      "text/plain": [
       "<Figure size 640x480 with 1 Axes>"
      ]
     },
     "metadata": {},
     "output_type": "display_data"
    }
   ],
   "source": [
    "Iron=Quality[Quality['Quality']==2]\n",
    "Iron.plot('year','count',kind='scatter', layout=(5,5),color=\"brown\",title= \"Iron distribution\")\n",
    "plt.show()"
   ]
  },
  {
   "cell_type": "code",
   "execution_count": null,
   "id": "de81173c",
   "metadata": {},
   "outputs": [],
   "source": []
  },
  {
   "cell_type": "code",
   "execution_count": 45,
   "id": "d099b012",
   "metadata": {},
   "outputs": [
    {
     "data": {
      "image/png": "[encoded data removed]",
      "text/plain": [
       "<Figure size 640x480 with 1 Axes>"
      ]
     },
     "metadata": {},
     "output_type": "display_data"
    }
   ],
   "source": [
    "Nitrate=Quality[Quality['Quality']==3]\n",
    "Nitrate.plot('year','count',kind='scatter', layout=(5,5),title= \"Nitrate distribution\")\n",
    "plt.show()"
   ]
  },
  {
   "cell_type": "code",
   "execution_count": null,
   "id": "b5e7cd8e",
   "metadata": {},
   "outputs": [],
   "source": []
  },
  {
   "cell_type": "code",
   "execution_count": 46,
   "id": "3e3346a4",
   "metadata": {},
   "outputs": [
    {
     "data": {
      "image/png": "[encoded data removed]",
      "text/plain": [
       "<Figure size 640x480 with 1 Axes>"
      ]
     },
     "metadata": {},
     "output_type": "display_data"
    }
   ],
   "source": [
    "Salinity=Quality[Quality['Quality']==4]\n",
    "Salinity.plot('year','count',kind='scatter', layout=(5,5),color=\"yellow\",title= \"Salinity distribution\")\n",
    "plt.show()"
   ]
  },
  {
   "cell_type": "code",
   "execution_count": null,
   "id": "1363db58",
   "metadata": {},
   "outputs": [],
   "source": []
  },
  {
   "cell_type": "code",
   "execution_count": 47,
   "id": "311932d2",
   "metadata": {},
   "outputs": [
    {
     "data": {
      "text/html": [
       "<div>\n",
       "<style scoped>\n",
       "    .dataframe tbody tr th:only-of-type {\n",
       "        vertical-align: middle;\n",
       "    }\n",
       "\n",
       "    .dataframe tbody tr th {\n",
       "        vertical-align: top;\n",
       "    }\n",
       "\n",
       "    .dataframe thead th {\n",
       "        text-align: right;\n",
       "    }\n",
       "</style>\n",
       "<table border=\"1\" class=\"dataframe\">\n",
       "  <thead>\n",
       "    <tr style=\"text-align: right;\">\n",
       "      <th></th>\n",
       "      <th>State Name</th>\n",
       "      <th>Quality</th>\n",
       "      <th>year</th>\n",
       "      <th>count</th>\n",
       "    </tr>\n",
       "  </thead>\n",
       "  <tbody>\n",
       "    <tr>\n",
       "      <th>112</th>\n",
       "      <td>KARNATAKA</td>\n",
       "      <td>3</td>\n",
       "      <td>2011</td>\n",
       "      <td>1769</td>\n",
       "    </tr>\n",
       "    <tr>\n",
       "      <th>226</th>\n",
       "      <td>RAJASTHAN</td>\n",
       "      <td>3</td>\n",
       "      <td>2011</td>\n",
       "      <td>1106</td>\n",
       "    </tr>\n",
       "    <tr>\n",
       "      <th>160</th>\n",
       "      <td>MAHARASHTRA</td>\n",
       "      <td>3</td>\n",
       "      <td>2011</td>\n",
       "      <td>763</td>\n",
       "    </tr>\n",
       "    <tr>\n",
       "      <th>57</th>\n",
       "      <td>GUJARAT</td>\n",
       "      <td>3</td>\n",
       "      <td>2011</td>\n",
       "      <td>147</td>\n",
       "    </tr>\n",
       "    <tr>\n",
       "      <th>128</th>\n",
       "      <td>KERALA</td>\n",
       "      <td>3</td>\n",
       "      <td>2011</td>\n",
       "      <td>46</td>\n",
       "    </tr>\n",
       "    <tr>\n",
       "      <th>190</th>\n",
       "      <td>ORISSA</td>\n",
       "      <td>3</td>\n",
       "      <td>2011</td>\n",
       "      <td>28</td>\n",
       "    </tr>\n",
       "    <tr>\n",
       "      <th>240</th>\n",
       "      <td>TAMIL NADU</td>\n",
       "      <td>3</td>\n",
       "      <td>2011</td>\n",
       "      <td>3</td>\n",
       "    </tr>\n",
       "    <tr>\n",
       "      <th>280</th>\n",
       "      <td>UTTARAKHAND</td>\n",
       "      <td>3</td>\n",
       "      <td>2011</td>\n",
       "      <td>2</td>\n",
       "    </tr>\n",
       "    <tr>\n",
       "      <th>95</th>\n",
       "      <td>JHARKHAND</td>\n",
       "      <td>3</td>\n",
       "      <td>2011</td>\n",
       "      <td>1</td>\n",
       "    </tr>\n",
       "    <tr>\n",
       "      <th>144</th>\n",
       "      <td>MADHYA PRADESH</td>\n",
       "      <td>3</td>\n",
       "      <td>2011</td>\n",
       "      <td>1</td>\n",
       "    </tr>\n",
       "    <tr>\n",
       "      <th>264</th>\n",
       "      <td>UTTAR PRADESH</td>\n",
       "      <td>3</td>\n",
       "      <td>2011</td>\n",
       "      <td>1</td>\n",
       "    </tr>\n",
       "  </tbody>\n",
       "</table>\n",
       "</div>"
      ],
      "text/plain": [
       "         State Name  Quality  year  count\n",
       "112       KARNATAKA        3  2011   1769\n",
       "226       RAJASTHAN        3  2011   1106\n",
       "160     MAHARASHTRA        3  2011    763\n",
       "57          GUJARAT        3  2011    147\n",
       "128          KERALA        3  2011     46\n",
       "190          ORISSA        3  2011     28\n",
       "240      TAMIL NADU        3  2011      3\n",
       "280     UTTARAKHAND        3  2011      2\n",
       "95        JHARKHAND        3  2011      1\n",
       "144  MADHYA PRADESH        3  2011      1\n",
       "264   UTTAR PRADESH        3  2011      1"
      ]
     },
     "execution_count": 47,
     "metadata": {},
     "output_type": "execute_result"
    }
   ],
   "source": [
    "State_Quality = pd.DataFrame({'count' : Subset_Data2.groupby( [ \"State Name\",\"Quality\",\"year\"] ).size()}).reset_index()\n",
    "State_Nitrate_Quality=State_Quality[(State_Quality['year']==2011) & (State_Quality['Quality']==3)]\n",
    "State_Nitrate_Quality.sort_values(['count'], ascending=[False])"
   ]
  },
  {
   "cell_type": "code",
   "execution_count": 48,
   "id": "b307d07d",
   "metadata": {},
   "outputs": [
    {
     "data": {
      "text/html": [
       "<div>\n",
       "<style scoped>\n",
       "    .dataframe tbody tr th:only-of-type {\n",
       "        vertical-align: middle;\n",
       "    }\n",
       "\n",
       "    .dataframe tbody tr th {\n",
       "        vertical-align: top;\n",
       "    }\n",
       "\n",
       "    .dataframe thead th {\n",
       "        text-align: right;\n",
       "    }\n",
       "</style>\n",
       "<table border=\"1\" class=\"dataframe\">\n",
       "  <thead>\n",
       "    <tr style=\"text-align: right;\">\n",
       "      <th></th>\n",
       "      <th>State Name</th>\n",
       "      <th>Quality</th>\n",
       "      <th>year</th>\n",
       "      <th>count</th>\n",
       "    </tr>\n",
       "  </thead>\n",
       "  <tbody>\n",
       "    <tr>\n",
       "      <th>159</th>\n",
       "      <td>MAHARASHTRA</td>\n",
       "      <td>3</td>\n",
       "      <td>2010</td>\n",
       "      <td>1225</td>\n",
       "    </tr>\n",
       "    <tr>\n",
       "      <th>225</th>\n",
       "      <td>RAJASTHAN</td>\n",
       "      <td>3</td>\n",
       "      <td>2010</td>\n",
       "      <td>856</td>\n",
       "    </tr>\n",
       "    <tr>\n",
       "      <th>111</th>\n",
       "      <td>KARNATAKA</td>\n",
       "      <td>3</td>\n",
       "      <td>2010</td>\n",
       "      <td>655</td>\n",
       "    </tr>\n",
       "    <tr>\n",
       "      <th>56</th>\n",
       "      <td>GUJARAT</td>\n",
       "      <td>3</td>\n",
       "      <td>2010</td>\n",
       "      <td>191</td>\n",
       "    </tr>\n",
       "    <tr>\n",
       "      <th>239</th>\n",
       "      <td>TAMIL NADU</td>\n",
       "      <td>3</td>\n",
       "      <td>2010</td>\n",
       "      <td>106</td>\n",
       "    </tr>\n",
       "    <tr>\n",
       "      <th>127</th>\n",
       "      <td>KERALA</td>\n",
       "      <td>3</td>\n",
       "      <td>2010</td>\n",
       "      <td>53</td>\n",
       "    </tr>\n",
       "    <tr>\n",
       "      <th>189</th>\n",
       "      <td>ORISSA</td>\n",
       "      <td>3</td>\n",
       "      <td>2010</td>\n",
       "      <td>28</td>\n",
       "    </tr>\n",
       "    <tr>\n",
       "      <th>43</th>\n",
       "      <td>CHATTISGARH</td>\n",
       "      <td>3</td>\n",
       "      <td>2010</td>\n",
       "      <td>8</td>\n",
       "    </tr>\n",
       "    <tr>\n",
       "      <th>143</th>\n",
       "      <td>MADHYA PRADESH</td>\n",
       "      <td>3</td>\n",
       "      <td>2010</td>\n",
       "      <td>6</td>\n",
       "    </tr>\n",
       "    <tr>\n",
       "      <th>263</th>\n",
       "      <td>UTTAR PRADESH</td>\n",
       "      <td>3</td>\n",
       "      <td>2010</td>\n",
       "      <td>2</td>\n",
       "    </tr>\n",
       "    <tr>\n",
       "      <th>279</th>\n",
       "      <td>UTTARAKHAND</td>\n",
       "      <td>3</td>\n",
       "      <td>2010</td>\n",
       "      <td>2</td>\n",
       "    </tr>\n",
       "    <tr>\n",
       "      <th>94</th>\n",
       "      <td>JHARKHAND</td>\n",
       "      <td>3</td>\n",
       "      <td>2010</td>\n",
       "      <td>1</td>\n",
       "    </tr>\n",
       "  </tbody>\n",
       "</table>\n",
       "</div>"
      ],
      "text/plain": [
       "         State Name  Quality  year  count\n",
       "159     MAHARASHTRA        3  2010   1225\n",
       "225       RAJASTHAN        3  2010    856\n",
       "111       KARNATAKA        3  2010    655\n",
       "56          GUJARAT        3  2010    191\n",
       "239      TAMIL NADU        3  2010    106\n",
       "127          KERALA        3  2010     53\n",
       "189          ORISSA        3  2010     28\n",
       "43      CHATTISGARH        3  2010      8\n",
       "143  MADHYA PRADESH        3  2010      6\n",
       "263   UTTAR PRADESH        3  2010      2\n",
       "279     UTTARAKHAND        3  2010      2\n",
       "94        JHARKHAND        3  2010      1"
      ]
     },
     "execution_count": 48,
     "metadata": {},
     "output_type": "execute_result"
    }
   ],
   "source": [
    "State_Nitrate_Quality1=State_Quality[(State_Quality['year']==2010) & (State_Quality['Quality']==3)]\n",
    "State_Nitrate_Quality1.sort_values(['count'], ascending=[False])"
   ]
  },
  {
   "cell_type": "markdown",
   "id": "5f1627a2",
   "metadata": {},
   "source": [
    "Karnataka and Rajasthan has high amounts of Nitrate in 2011 accounting approximately 47% and 29% of the total. Also from 2010 to 2011, the amount of Nitrate got tripled in Karnataka and halved in Maharashtra.This might be numerous reasons for this increase like high use of inorganic fertilizers, pipeline leakages, Industrial pollution etc."
   ]
  },
  {
   "cell_type": "code",
   "execution_count": null,
   "id": "64909947",
   "metadata": {},
   "outputs": [],
   "source": []
  }
 ],
 "metadata": {
  "kernelspec": {
   "display_name": "Python 3 (ipykernel)",
   "language": "python",
   "name": "python3"
  },
  "language_info": {
   "codemirror_mode": {
    "name": "ipython",
    "version": 3
   },
   "file_extension": ".py",
   "mimetype": "text/x-python",
   "name": "python",
   "nbconvert_exporter": "python",
   "pygments_lexer": "ipython3",
   "version": "3.11.4"
  }
 },
 "nbformat": 4,
 "nbformat_minor": 5
}
